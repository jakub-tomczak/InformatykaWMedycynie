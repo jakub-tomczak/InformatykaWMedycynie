{
 "cells": [
  {
   "cell_type": "code",
   "execution_count": 1,
   "metadata": {},
   "outputs": [],
   "source": [
    "from skimage import io\n",
    "from code import interact\n",
    "\n",
    "from matplotlib.pyplot import figure, subplot\n",
    "from skimage import data as img\n",
    "from skimage import filters\n",
    "from matplotlib import pyplot as plt\n",
    "from skimage.measure import label, regionprops\n",
    "from skimage.morphology import closing\n",
    "from skimage.segmentation import clear_border\n",
    "import skimage.morphology as mp\n",
    "import numpy as np\n",
    "from scipy import ndimage as ndi\n",
    "import matplotlib.cm as cm\n",
    "import matplotlib.mlab as mlab\n",
    "from ipykernel.pylab.backend_inline import flush_figures\n",
    "from skimage.measure import find_contours\n",
    "from skimage import feature\n",
    "import skimage\n",
    "import os\n",
    "import matplotlib.patches as mpatches\n",
    "import random\n",
    "from glob import glob\n",
    "\n",
    "import PIL\n",
    "from IPython.display import display, Image\n",
    "\n",
    "from ipywidgets import interact, interactive, fixed\n",
    "from ipywidgets import *"
   ]
  },
  {
   "cell_type": "code",
   "execution_count": 2,
   "metadata": {},
   "outputs": [
    {
     "data": {
      "application/vnd.jupyter.widget-view+json": {
       "model_id": "e5f0c5139cec4fe9833c77d3f8f9149d",
       "version_major": 2,
       "version_minor": 0
      },
      "text/html": [
       "<p>Failed to display Jupyter Widget of type <code>interactive</code>.</p>\n",
       "<p>\n",
       "  If you're reading this message in the Jupyter Notebook or JupyterLab Notebook, it may mean\n",
       "  that the widgets JavaScript is still loading. If this message persists, it\n",
       "  likely means that the widgets JavaScript library is either not installed or\n",
       "  not enabled. See the <a href=\"https://ipywidgets.readthedocs.io/en/stable/user_install.html\">Jupyter\n",
       "  Widgets Documentation</a> for setup instructions.\n",
       "</p>\n",
       "<p>\n",
       "  If you're reading this message in another frontend (for example, a static\n",
       "  rendering on GitHub or <a href=\"https://nbviewer.jupyter.org/\">NBViewer</a>),\n",
       "  it may mean that your frontend doesn't currently support widgets.\n",
       "</p>\n"
      ],
      "text/plain": [
       "interactive(children=(IntSlider(value=20, description='steps', max=180), Output()), _dom_classes=('widget-interact',))"
      ]
     },
     "metadata": {},
     "output_type": "display_data"
    },
    {
     "name": "stderr",
     "output_type": "stream",
     "text": [
      "C:\\Users\\Jakub\\Anaconda3\\lib\\site-packages\\ipykernel_launcher.py:18: DeprecationWarning: `imread` is deprecated!\n",
      "`imread` is deprecated in SciPy 1.0.0, and will be removed in 1.2.0.\n",
      "Use ``imageio.imread`` instead.\n"
     ]
    },
    {
     "ename": "TypeError",
     "evalue": "discrete_radon_transform() takes from 0 to 1 positional arguments but 2 were given",
     "output_type": "error",
     "traceback": [
      "\u001b[1;31m---------------------------------------------------------------------------\u001b[0m",
      "\u001b[1;31mTypeError\u001b[0m                                 Traceback (most recent call last)",
      "\u001b[1;32m<ipython-input-2-153076d42a70>\u001b[0m in \u001b[0;36m<module>\u001b[1;34m()\u001b[0m\n\u001b[0;32m     17\u001b[0m \u001b[1;31m# Read image as 64bit float gray scale\u001b[0m\u001b[1;33m\u001b[0m\u001b[1;33m\u001b[0m\u001b[0m\n\u001b[0;32m     18\u001b[0m \u001b[0mimage\u001b[0m \u001b[1;33m=\u001b[0m \u001b[0mmisc\u001b[0m\u001b[1;33m.\u001b[0m\u001b[0mimread\u001b[0m\u001b[1;33m(\u001b[0m\u001b[1;34m'TomografKomputerowy/res/photo.png'\u001b[0m\u001b[1;33m,\u001b[0m \u001b[0mflatten\u001b[0m\u001b[1;33m=\u001b[0m\u001b[1;32mTrue\u001b[0m\u001b[1;33m)\u001b[0m\u001b[1;33m.\u001b[0m\u001b[0mastype\u001b[0m\u001b[1;33m(\u001b[0m\u001b[1;34m'float64'\u001b[0m\u001b[1;33m)\u001b[0m\u001b[1;33m\u001b[0m\u001b[0m\n\u001b[1;32m---> 19\u001b[1;33m \u001b[0mradon\u001b[0m \u001b[1;33m=\u001b[0m \u001b[0mdiscrete_radon_transform\u001b[0m\u001b[1;33m(\u001b[0m\u001b[0mimage\u001b[0m\u001b[1;33m,\u001b[0m \u001b[1;36m220\u001b[0m\u001b[1;33m)\u001b[0m\u001b[1;33m\u001b[0m\u001b[0m\n\u001b[0m\u001b[0;32m     20\u001b[0m \u001b[1;33m\u001b[0m\u001b[0m\n",
      "\u001b[1;31mTypeError\u001b[0m: discrete_radon_transform() takes from 0 to 1 positional arguments but 2 were given"
     ]
    },
    {
     "data": {
      "image/png": "[encoded data removed]",
      "text/plain": [
       "<matplotlib.figure.Figure at 0x1f2b9b82e48>"
      ]
     },
     "metadata": {},
     "output_type": "display_data"
    },
    {
     "data": {
      "image/png": "[encoded data removed]",
      "text/plain": [
       "<matplotlib.figure.Figure at 0x1f2bbda6518>"
      ]
     },
     "metadata": {},
     "output_type": "display_data"
    },
    {
     "data": {
      "image/png": "[encoded data removed]",
      "text/plain": [
       "<matplotlib.figure.Figure at 0x1f2bd054160>"
      ]
     },
     "metadata": {},
     "output_type": "display_data"
    }
   ],
   "source": [
    "from scipy import misc\n",
    "import numpy as np\n",
    "import matplotlib.pyplot as plt\n",
    "@interact(steps=(0,180,1))\n",
    "def discrete_radon_transform(steps=20):\n",
    "    # Plot the original and the radon transformed image\n",
    "    plt.subplot(1, 2, 1), plt.imshow(image, cmap='gray')\n",
    "    plt.xticks([]), plt.yticks([])\n",
    "\n",
    "    R = np.zeros((len(image), steps), dtype='float64')\n",
    "    for s in range(steps):\n",
    "        rotation = misc.imrotate(image, -s*180/steps).astype('float64')\n",
    "        R[:,s] = sum(rotation)\n",
    "    plt.subplot(1, 2, 2), plt.imshow(radon, cmap='gray')\n",
    "    plt.show()\n",
    "\n",
    "# Read image as 64bit float gray scale\n",
    "image = misc.imread('TomografKomputerowy/res/photo.png', flatten=True).astype('float64')\n",
    "radon = discrete_radon_transform(image, 220)\n",
    "\n"
   ]
  },
  {
   "cell_type": "code",
   "execution_count": 3,
   "metadata": {},
   "outputs": [],
   "source": [
    "def calculatePosition(angle, radius, circle_middle = (0,0)):\n",
    "    rad = angle / 180 * np.pi\n",
    "    return ((int)(circle_middle[0] + radius*np.cos(rad)), (int)(circle_middle[1] + radius*np.sin(rad)))"
   ]
  },
  {
   "cell_type": "code",
   "execution_count": 4,
   "metadata": {},
   "outputs": [
    {
     "data": {
      "application/vnd.jupyter.widget-view+json": {
       "model_id": "5eadd363d95e4108827c002c9dbf64c9",
       "version_major": 2,
       "version_minor": 0
      },
      "text/html": [
       "<p>Failed to display Jupyter Widget of type <code>interactive</code>.</p>\n",
       "<p>\n",
       "  If you're reading this message in the Jupyter Notebook or JupyterLab Notebook, it may mean\n",
       "  that the widgets JavaScript is still loading. If this message persists, it\n",
       "  likely means that the widgets JavaScript library is either not installed or\n",
       "  not enabled. See the <a href=\"https://ipywidgets.readthedocs.io/en/stable/user_install.html\">Jupyter\n",
       "  Widgets Documentation</a> for setup instructions.\n",
       "</p>\n",
       "<p>\n",
       "  If you're reading this message in another frontend (for example, a static\n",
       "  rendering on GitHub or <a href=\"https://nbviewer.jupyter.org/\">NBViewer</a>),\n",
       "  it may mean that your frontend doesn't currently support widgets.\n",
       "</p>\n"
      ],
      "text/plain": [
       "interactive(children=(IntSlider(value=0, description='angle', max=360), Output()), _dom_classes=('widget-interact',))"
      ]
     },
     "metadata": {},
     "output_type": "display_data"
    }
   ],
   "source": [
    "a = 100\n",
    "image = np.zeros((a,a))\n",
    "@interact(angle=(0,360,1))\n",
    "def drawCircle(angle=0):\n",
    "    middle = (int)(a/2)\n",
    "    drawCircle(angle, middle-1, (middle, middle))\n",
    "\n",
    "def drawCircle(angle, radius, circle_middle):\n",
    "    (x, y) = calculatePosition(angle, radius, circle_middle)\n",
    "    from random import random\n",
    "    image[x, y] = random() \n",
    "    plt.subplot(1, 1, 1), plt.imshow(image, cmap='gray')\n",
    "    plt.show()\n"
   ]
  },
  {
   "cell_type": "code",
   "execution_count": 5,
   "metadata": {},
   "outputs": [],
   "source": [
    "def bresenham(image, start, end):\n",
    "    x1,y1 = start\n",
    "    x2,y2 = end\n",
    "\n",
    "    #pomijamy zal 1\n",
    "    #if x2 < x1 and y2 > y1:\n",
    "\n",
    "    #zal 2 - kat miedzy styczna a osia X < 45 stopni\n",
    "    if x2 - x1 < y2 - y1:\n",
    "        raise Exception(\"Alg bresenhama: niespełnione drugie założenie! x1:{x1} y1:{y1} x2:{x2} y2:{y2}\".format(x1 = x1, x2=x2, y1=y1, y2=y2));\n",
    "\n",
    "    dx = x2 - x1\n",
    "    dy = y2 - y1\n",
    "    e = dx / 2\n",
    "    for i in range(0, dx):\n",
    "        x1 = x1 + 1\n",
    "        e = e - dy\n",
    "        if e < 0:\n",
    "            y1 = y1+1\n",
    "            e = e + dx\n",
    "        image[x1, y1] = 1"
   ]
  },
  {
   "cell_type": "code",
   "execution_count": 17,
   "metadata": {},
   "outputs": [
    {
     "data": {
      "application/vnd.jupyter.widget-view+json": {
       "model_id": "cc56dfcaccc4456d988531b518d8ade1",
       "version_major": 2,
       "version_minor": 0
      },
      "text/html": [
       "<p>Failed to display Jupyter Widget of type <code>interactive</code>.</p>\n",
       "<p>\n",
       "  If you're reading this message in the Jupyter Notebook or JupyterLab Notebook, it may mean\n",
       "  that the widgets JavaScript is still loading. If this message persists, it\n",
       "  likely means that the widgets JavaScript library is either not installed or\n",
       "  not enabled. See the <a href=\"https://ipywidgets.readthedocs.io/en/stable/user_install.html\">Jupyter\n",
       "  Widgets Documentation</a> for setup instructions.\n",
       "</p>\n",
       "<p>\n",
       "  If you're reading this message in another frontend (for example, a static\n",
       "  rendering on GitHub or <a href=\"https://nbviewer.jupyter.org/\">NBViewer</a>),\n",
       "  it may mean that your frontend doesn't currently support widgets.\n",
       "</p>\n"
      ],
      "text/plain": [
       "interactive(children=(IntSlider(value=270, description='angle', max=360, step=5), Output()), _dom_classes=('widget-interact',))"
      ]
     },
     "metadata": {},
     "output_type": "display_data"
    }
   ],
   "source": [
    "size = 200\n",
    "radi = (int)(size/2)\n",
    "\n",
    "@interact(angle=(0,360,5))\n",
    "def drawLineAlongCircle(angle=270):\n",
    "    x1,y1 = calculatePosition(angle, 50, (radi, radi))\n",
    "    image2 = np.zeros((size, size))\n",
    "    print(angle, radi)\n",
    "    x2 = size - x1\n",
    "    y2 = size - y1\n",
    "    print(x1,y1,x2,y2)\n",
    "    bresenham(image2, (x1,y1), (x2,y2))\n",
    "    plt.subplot(1,1,1)\n",
    "    plt.imshow(image2, cmap='gray')\n",
    "    plt.show()"
   ]
  },
  {
   "cell_type": "code",
   "execution_count": null,
   "metadata": {},
   "outputs": [],
   "source": []
  }
 ],
 "metadata": {
  "kernelspec": {
   "display_name": "Python 3",
   "language": "python",
   "name": "python3"
  },
  "language_info": {
   "codemirror_mode": {
    "name": "ipython",
    "version": 3
   },
   "file_extension": ".py",
   "mimetype": "text/x-python",
   "name": "python",
   "nbconvert_exporter": "python",
   "pygments_lexer": "ipython3",
   "version": "3.6.4"
  }
 },
 "nbformat": 4,
 "nbformat_minor": 2
}
