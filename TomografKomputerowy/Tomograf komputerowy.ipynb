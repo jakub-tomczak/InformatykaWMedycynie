{
 "cells": [
  {
   "cell_type": "code",
   "execution_count": 1,
   "metadata": {},
   "outputs": [],
   "source": [
    "from scipy import misc\n",
    "import numpy as np\n",
    "import matplotlib.pyplot as plt\n",
    "import os\n",
    "from line_drawer import \\\n",
    "    bresenham, draw_line, calculatePosition, check_borders, calculatePositionSafe\n",
    "\n",
    "from ipywidgets import interact, interactive, fixed\n"
   ]
  },
  {
   "cell_type": "code",
   "execution_count": 2,
   "metadata": {},
   "outputs": [],
   "source": [
    "def plot_image(image):\n",
    "    plt.subplot(1, 1, 1), plt.imshow(image, cmap='gray')\n",
    "    plt.show()"
   ]
  },
  {
   "cell_type": "code",
   "execution_count": 3,
   "metadata": {},
   "outputs": [],
   "source": [
    "def draw_emitter(image, angle, n_detectors, diameter = 0):\n",
    "    if n_detectors % 2 == 0:\n",
    "        n_detectors += 1\n",
    "    #Draw main line\n",
    "    if diameter == 0:\n",
    "        diameter = len(image)\n",
    "    big_diameter = diameter\n",
    "    big_radius = (int)(big_diameter / 2) - 1\n",
    "    big_center = (big_radius, big_radius)\n",
    "    start = calculatePositionSafe(angle, big_diameter, big_center)\n",
    "    draw_line(image, angle=angle, diameter=big_diameter, center=big_center)\n",
    "\n",
    "    x2 = big_diameter - start[0]\n",
    "    y2 = big_diameter - start[1]\n",
    "\n",
    "    small_diameter = (int)(big_diameter/2)\n",
    "    #get center of smaller circle\n",
    "    small_center = ( (int)((x2+big_center[0])/2), (int)((y2+big_center[1])/2) )\n",
    "    small_radius = (int)(small_diameter/2)-1\n",
    "\n",
    "    angle_between_detectors = 5\n",
    "    deviation = angle_between_detectors * (int)(n_detectors / 2)\n",
    "    for i in range(angle - deviation, angle + deviation + 1, angle_between_detectors):\n",
    "        if i == angle:\n",
    "            continue\n",
    "        end = calculatePosition(i, small_radius, small_center )\n",
    "        end = (2*small_center[0] - end[0], 2*small_center[1] - end[1])\n",
    "        end = check_borders(end, big_diameter)\n",
    "        print(start, end)\n",
    "        draw_line(image, start_point=start, end_point=end)\n"
   ]
  },
  {
   "cell_type": "code",
   "execution_count": 4,
   "metadata": {},
   "outputs": [],
   "source": [
    "def prepare_image(image):\n",
    "    if image.shape[0] != image.shape[1]:\n",
    "        raise Exception('Image is not a square!')\n",
    "    #size is sqrt(2)*a -> diagonal of a square\n",
    "    size = (int)(np.sqrt(2) * max(image.shape[0], image.shape[1]) + 10)\n",
    "    new_image = np.zeros((size, size))\n",
    "    new_image[:,:] = 255\n",
    "    dy = image.shape[0] // 2\n",
    "    dx = image.shape[1] // 2\n",
    "    new_center = size // 2\n",
    "    # put image into new_image\n",
    "    new_image[new_center - dy: new_center + dy, new_center - dx: new_center + dx] = image\n",
    "\n",
    "    return new_image"
   ]
  },
  {
   "cell_type": "code",
   "execution_count": 10,
   "metadata": {},
   "outputs": [
    {
     "name": "stderr",
     "output_type": "stream",
     "text": [
      "C:\\Users\\Jakub\\Anaconda3\\lib\\site-packages\\ipykernel_launcher.py:6: DeprecationWarning: `imread` is deprecated!\n",
      "`imread` is deprecated in SciPy 1.0.0, and will be removed in 1.2.0.\n",
      "Use ``imageio.imread`` instead.\n",
      "  \n"
     ]
    }
   ],
   "source": [
    "file = \"photo.png\"\n",
    "directory = os.getcwd() + \"\\\\res\\\\\"\n",
    "n_detectors = 5\n",
    "emitter_angle = 135\n",
    "\n",
    "image = misc.imread('{dir}{file}'.format(dir=directory, file=file), flatten=True).astype('float64')\n"
   ]
  },
  {
   "cell_type": "code",
   "execution_count": 9,
   "metadata": {},
   "outputs": [
    {
     "data": {
      "application/vnd.jupyter.widget-view+json": {
       "model_id": "615aef0f77dd4bcb991b348674d747c9",
       "version_major": 2,
       "version_minor": 0
      },
      "text/html": [
       "<p>Failed to display Jupyter Widget of type <code>interactive</code>.</p>\n",
       "<p>\n",
       "  If you're reading this message in the Jupyter Notebook or JupyterLab Notebook, it may mean\n",
       "  that the widgets JavaScript is still loading. If this message persists, it\n",
       "  likely means that the widgets JavaScript library is either not installed or\n",
       "  not enabled. See the <a href=\"https://ipywidgets.readthedocs.io/en/stable/user_install.html\">Jupyter\n",
       "  Widgets Documentation</a> for setup instructions.\n",
       "</p>\n",
       "<p>\n",
       "  If you're reading this message in another frontend (for example, a static\n",
       "  rendering on GitHub or <a href=\"https://nbviewer.jupyter.org/\">NBViewer</a>),\n",
       "  it may mean that your frontend doesn't currently support widgets.\n",
       "</p>\n"
      ],
      "text/plain": [
       "interactive(children=(IntSlider(value=0, description='angle', max=180, step=5), Output()), _dom_classes=('widget-interact',))"
      ]
     },
     "metadata": {},
     "output_type": "display_data"
    }
   ],
   "source": [
    "from scipy import misc\n",
    "import numpy as np\n",
    "import matplotlib.pyplot as plt\n",
    "@interact(angle=(0,180,5))\n",
    "def discrete_radon_transform(angle=0):\n",
    "    new_image = prepare_image(image)\n",
    "\n",
    "    draw_emitter(new_image, angle, n_detectors, diameter=len(new_image))\n",
    "    plot_image(new_image)\n"
   ]
  }
 ],
 "metadata": {
  "kernelspec": {
   "display_name": "Python 3",
   "language": "python",
   "name": "python3"
  },
  "language_info": {
   "codemirror_mode": {
    "name": "ipython",
    "version": 3
   },
   "file_extension": ".py",
   "mimetype": "text/x-python",
   "name": "python",
   "nbconvert_exporter": "python",
   "pygments_lexer": "ipython3",
   "version": "3.6.4"
  }
 },
 "nbformat": 4,
 "nbformat_minor": 2
}
